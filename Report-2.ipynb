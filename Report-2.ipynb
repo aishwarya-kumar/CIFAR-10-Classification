{
 "cells": [
  {
   "cell_type": "markdown",
   "id": "487a9832",
   "metadata": {},
   "source": [
    "## Convolutional Neural Network \n",
    "\n",
    "A Convolutional Neural Network (CNN) is a type of deep learning model that is particularly effective in image classification and recognition tasks.\n",
    "\n",
    "CNNs consist of several layers that are designed to extract features from an input image. The first layer is typically a convolutional layer, which applies a set of filters to the input image to identify patterns and features at different scales and orientations. These filters are learned during the training process. The next layer is usually a pooling layer, which reduces the spatial dimension of the output of the convolutional layer. This helps to reduce the number of parameters in the model and prevent overfitting. The process of applying convolutional and pooling layers is repeated several times to extract higher-level features from the input image. The final layer is typically a fully connected layer, which uses the extracted features to classify the input image into one of several categories. Each layer can learn more specific and meaningful features than the previous one, allowing the network to extract increasingly high-level representations of the input image. The convolutional layers built into the network reduce the dimensionality of images while still preserving their important features.\n",
    "\n",
    "CNNs have been used with great success in many applications, including object detection, image segmentation, and natural language processing. They have also been used to generate realistic images and videos, and to learn representations that can be used in other machine learning tasks."
   ]
  },
  {
   "cell_type": "markdown",
   "id": "da0845ed",
   "metadata": {},
   "source": [
    "### Importing required libraries"
   ]
  },
  {
   "cell_type": "code",
   "execution_count": 12,
   "id": "bf813b3f",
   "metadata": {},
   "outputs": [],
   "source": [
    "import tensorflow as tf\n",
    "from tensorflow.keras.utils import to_categorical\n",
    "from tensorflow.keras.layers import Input, Conv2D, Dense, Flatten, Dropout\n",
    "from tensorflow.keras.layers import GlobalMaxPooling2D, MaxPooling2D\n",
    "from tensorflow.keras.layers import BatchNormalization\n",
    "from tensorflow.keras.models import Model\n",
    "import keras\n",
    "from keras.datasets import cifar10"
   ]
  },
  {
   "cell_type": "markdown",
   "id": "e2385870",
   "metadata": {},
   "source": [
    "### Preparing the dataset"
   ]
  },
  {
   "cell_type": "code",
   "execution_count": 13,
   "id": "379c9333",
   "metadata": {},
   "outputs": [],
   "source": [
    "# Loading the data\n",
    "\n",
    "# define num_class\n",
    "num_classes = 10\n",
    "classesName = ['plane', 'car', 'bird', 'cat', 'deer', 'dog', 'frog', 'horse', 'ship', 'truck']\n",
    "\n",
    "# Distribute it to train and test set\n",
    "(x_train, y_train), (x_test, y_test) = cifar10.load_data()"
   ]
  },
  {
   "cell_type": "code",
   "execution_count": 14,
   "id": "bfeda063",
   "metadata": {},
   "outputs": [],
   "source": [
    "# Converting the 50000 , 32*32*3 images into 50000 * 3072 arrays\n",
    "x_train = x_train.reshape(50000, 3072)\n",
    "x_test = x_test.reshape(10000, 3072)\n",
    "x_train = x_train.astype('float32')\n",
    "x_test = x_test.astype('float32')\n",
    "\n",
    "y_train = y_train.flatten()\n",
    "y_test = y_test.flatten()\n",
    "\n",
    "# normalize the datasets\n",
    "x_train /= 255.\n",
    "x_test /= 255."
   ]
  },
  {
   "cell_type": "code",
   "execution_count": 15,
   "id": "1e2e8a46",
   "metadata": {},
   "outputs": [
    {
     "name": "stdout",
     "output_type": "stream",
     "text": [
      "(50000, 3072) train shape\n",
      "(10000, 3072) test shape\n",
      "(50000,) train shape\n",
      "(10000,) test shape\n"
     ]
    }
   ],
   "source": [
    "print(x_train.shape , \"train shape\")\n",
    "print(x_test.shape , \"test shape\")\n",
    "print(y_train.shape , \"train shape\")\n",
    "print(y_test.shape , \"test shape\")"
   ]
  },
  {
   "cell_type": "markdown",
   "id": "b8b3738f",
   "metadata": {},
   "source": [
    "### Defining the model\n",
    "It consists of two sets of Convolutional layers using relu activation function with MaxPooling and Dropout layers in between. This is followed by a fully connected layer with Dropout layers and a final output layer with Softmax activation. The model is designed to classify images into the 10 classes."
   ]
  },
  {
   "cell_type": "code",
   "execution_count": 18,
   "id": "71c71e9a",
   "metadata": {},
   "outputs": [],
   "source": [
    "model2 = tf.keras.models.Sequential([\n",
    "    tf.keras.layers.Conv2D(32, (3,3), activation='relu', padding='same', input_shape= (32,32,3)),\n",
    "    tf.keras.layers.Conv2D(32, (3,3), activation='relu'),\n",
    "    tf.keras.layers.MaxPooling2D(2, 2),\n",
    "    tf.keras.layers.Dropout(0.25),\n",
    "    tf.keras.layers.Conv2D(64, (3,3), activation='relu',padding='same'),\n",
    "    tf.keras.layers.Conv2D(64, (3,3), activation='relu'),\n",
    "    tf.keras.layers.MaxPooling2D(2,2),\n",
    "    tf.keras.layers.Dropout(0.25),\n",
    "    tf.keras.layers.Flatten(),\n",
    "    tf.keras.layers.Dense(512, activation='relu'),\n",
    "    tf.keras.layers.Dropout(0.5),\n",
    "    tf.keras.layers.Dense(10, activation='softmax')   \n",
    "    ])"
   ]
  },
  {
   "cell_type": "code",
   "execution_count": 19,
   "id": "f89691af",
   "metadata": {},
   "outputs": [
    {
     "name": "stdout",
     "output_type": "stream",
     "text": [
      "Model: \"sequential_5\"\n",
      "_________________________________________________________________\n",
      " Layer (type)                Output Shape              Param #   \n",
      "=================================================================\n",
      " conv2d_10 (Conv2D)          (None, 32, 32, 32)        896       \n",
      "                                                                 \n",
      " conv2d_11 (Conv2D)          (None, 30, 30, 32)        9248      \n",
      "                                                                 \n",
      " max_pooling2d_5 (MaxPooling  (None, 15, 15, 32)       0         \n",
      " 2D)                                                             \n",
      "                                                                 \n",
      " dropout (Dropout)           (None, 15, 15, 32)        0         \n",
      "                                                                 \n",
      " conv2d_12 (Conv2D)          (None, 15, 15, 64)        18496     \n",
      "                                                                 \n",
      " conv2d_13 (Conv2D)          (None, 13, 13, 64)        36928     \n",
      "                                                                 \n",
      " max_pooling2d_6 (MaxPooling  (None, 6, 6, 64)         0         \n",
      " 2D)                                                             \n",
      "                                                                 \n",
      " dropout_1 (Dropout)         (None, 6, 6, 64)          0         \n",
      "                                                                 \n",
      " flatten_5 (Flatten)         (None, 2304)              0         \n",
      "                                                                 \n",
      " dense_10 (Dense)            (None, 512)               1180160   \n",
      "                                                                 \n",
      " dropout_2 (Dropout)         (None, 512)               0         \n",
      "                                                                 \n",
      " dense_11 (Dense)            (None, 10)                5130      \n",
      "                                                                 \n",
      "=================================================================\n",
      "Total params: 1,250,858\n",
      "Trainable params: 1,250,858\n",
      "Non-trainable params: 0\n",
      "_________________________________________________________________\n"
     ]
    }
   ],
   "source": [
    "model2.summary()"
   ]
  },
  {
   "cell_type": "code",
   "execution_count": 67,
   "id": "7ae46f30",
   "metadata": {},
   "outputs": [],
   "source": [
    "model2.compile(loss = 'categorical_crossentropy', optimizer='adam', metrics=['accuracy'])"
   ]
  },
  {
   "cell_type": "markdown",
   "id": "9ea2e31d",
   "metadata": {},
   "source": [
    "### Fitting the model"
   ]
  },
  {
   "cell_type": "code",
   "execution_count": 68,
   "id": "66779c02",
   "metadata": {},
   "outputs": [
    {
     "name": "stdout",
     "output_type": "stream",
     "text": [
      "Epoch 1/50\n",
      "1563/1563 [==============================] - 50s 32ms/step - loss: 1.5336 - accuracy: 0.4374 - val_loss: 1.2075 - val_accuracy: 0.5699\n",
      "Epoch 2/50\n",
      "1563/1563 [==============================] - 52s 33ms/step - loss: 1.1355 - accuracy: 0.5979 - val_loss: 0.9380 - val_accuracy: 0.6722\n",
      "Epoch 3/50\n",
      "1563/1563 [==============================] - 52s 33ms/step - loss: 0.9752 - accuracy: 0.6562 - val_loss: 0.8390 - val_accuracy: 0.7072\n",
      "Epoch 4/50\n",
      "1563/1563 [==============================] - 53s 34ms/step - loss: 0.8742 - accuracy: 0.6928 - val_loss: 0.7782 - val_accuracy: 0.7276\n",
      "Epoch 5/50\n",
      "1563/1563 [==============================] - 54s 35ms/step - loss: 0.8045 - accuracy: 0.7177 - val_loss: 0.7250 - val_accuracy: 0.7448\n",
      "Epoch 6/50\n",
      "1563/1563 [==============================] - 56s 36ms/step - loss: 0.7631 - accuracy: 0.7322 - val_loss: 0.7139 - val_accuracy: 0.7538\n",
      "Epoch 7/50\n",
      "1563/1563 [==============================] - 52s 34ms/step - loss: 0.7259 - accuracy: 0.7456 - val_loss: 0.7111 - val_accuracy: 0.7562\n",
      "Epoch 8/50\n",
      "1563/1563 [==============================] - 52s 33ms/step - loss: 0.6974 - accuracy: 0.7547 - val_loss: 0.6680 - val_accuracy: 0.7715\n",
      "Epoch 9/50\n",
      "1563/1563 [==============================] - 55s 35ms/step - loss: 0.6618 - accuracy: 0.7689 - val_loss: 0.6946 - val_accuracy: 0.7608\n",
      "Epoch 10/50\n",
      "1563/1563 [==============================] - 54s 34ms/step - loss: 0.6448 - accuracy: 0.7741 - val_loss: 0.6799 - val_accuracy: 0.7714\n",
      "Epoch 11/50\n",
      "1563/1563 [==============================] - 52s 33ms/step - loss: 0.6194 - accuracy: 0.7842 - val_loss: 0.6583 - val_accuracy: 0.7764\n",
      "Epoch 12/50\n",
      "1563/1563 [==============================] - 55s 35ms/step - loss: 0.6013 - accuracy: 0.7876 - val_loss: 0.6507 - val_accuracy: 0.7804\n",
      "Epoch 13/50\n",
      "1563/1563 [==============================] - 52s 33ms/step - loss: 0.5872 - accuracy: 0.7937 - val_loss: 0.6930 - val_accuracy: 0.7634\n",
      "Epoch 14/50\n",
      "1563/1563 [==============================] - 52s 33ms/step - loss: 0.5717 - accuracy: 0.8006 - val_loss: 0.6325 - val_accuracy: 0.7888\n",
      "Epoch 15/50\n",
      "1563/1563 [==============================] - 52s 33ms/step - loss: 0.5480 - accuracy: 0.8084 - val_loss: 0.6622 - val_accuracy: 0.7785\n",
      "Epoch 16/50\n",
      "1563/1563 [==============================] - 54s 35ms/step - loss: 0.5405 - accuracy: 0.8121 - val_loss: 0.6337 - val_accuracy: 0.7870\n",
      "Epoch 17/50\n",
      "1563/1563 [==============================] - 53s 34ms/step - loss: 0.5362 - accuracy: 0.8115 - val_loss: 0.6329 - val_accuracy: 0.7918\n",
      "Epoch 18/50\n",
      "1563/1563 [==============================] - 52s 33ms/step - loss: 0.5227 - accuracy: 0.8167 - val_loss: 0.6208 - val_accuracy: 0.7934\n",
      "Epoch 19/50\n",
      "1563/1563 [==============================] - 54s 34ms/step - loss: 0.5056 - accuracy: 0.8235 - val_loss: 0.6476 - val_accuracy: 0.7817\n",
      "Epoch 20/50\n",
      "1563/1563 [==============================] - 57s 36ms/step - loss: 0.5016 - accuracy: 0.8233 - val_loss: 0.6385 - val_accuracy: 0.7933\n",
      "Epoch 21/50\n",
      "1563/1563 [==============================] - 52s 33ms/step - loss: 0.4911 - accuracy: 0.8280 - val_loss: 0.6470 - val_accuracy: 0.7926\n",
      "Epoch 22/50\n",
      "1563/1563 [==============================] - 53s 34ms/step - loss: 0.4820 - accuracy: 0.8326 - val_loss: 0.6576 - val_accuracy: 0.7868\n",
      "Epoch 23/50\n",
      "1563/1563 [==============================] - 55s 35ms/step - loss: 0.4828 - accuracy: 0.8301 - val_loss: 0.6502 - val_accuracy: 0.7918\n",
      "Epoch 24/50\n",
      "1563/1563 [==============================] - 54s 35ms/step - loss: 0.4707 - accuracy: 0.8359 - val_loss: 0.6357 - val_accuracy: 0.8010\n",
      "Epoch 25/50\n",
      "1563/1563 [==============================] - 55s 35ms/step - loss: 0.4689 - accuracy: 0.8333 - val_loss: 0.6739 - val_accuracy: 0.7876\n",
      "Epoch 26/50\n",
      "1563/1563 [==============================] - 55s 35ms/step - loss: 0.4623 - accuracy: 0.8370 - val_loss: 0.6515 - val_accuracy: 0.7948\n",
      "Epoch 27/50\n",
      "1563/1563 [==============================] - 52s 34ms/step - loss: 0.4515 - accuracy: 0.8413 - val_loss: 0.6445 - val_accuracy: 0.7918\n",
      "Epoch 28/50\n",
      "1563/1563 [==============================] - 53s 34ms/step - loss: 0.4452 - accuracy: 0.8435 - val_loss: 0.6249 - val_accuracy: 0.7996\n",
      "Epoch 29/50\n",
      "1563/1563 [==============================] - 52s 33ms/step - loss: 0.4356 - accuracy: 0.8478 - val_loss: 0.6887 - val_accuracy: 0.7874\n",
      "Epoch 30/50\n",
      "1563/1563 [==============================] - 62s 40ms/step - loss: 0.4321 - accuracy: 0.8478 - val_loss: 0.6474 - val_accuracy: 0.7927\n",
      "Epoch 31/50\n",
      "1563/1563 [==============================] - 57s 37ms/step - loss: 0.4352 - accuracy: 0.8486 - val_loss: 0.6479 - val_accuracy: 0.7970\n",
      "Epoch 32/50\n",
      "1563/1563 [==============================] - 56s 36ms/step - loss: 0.4295 - accuracy: 0.8497 - val_loss: 0.6453 - val_accuracy: 0.7961\n",
      "Epoch 33/50\n",
      "1563/1563 [==============================] - 58s 37ms/step - loss: 0.4212 - accuracy: 0.8535 - val_loss: 0.6744 - val_accuracy: 0.7877\n",
      "Epoch 34/50\n",
      "1563/1563 [==============================] - 53s 34ms/step - loss: 0.4210 - accuracy: 0.8527 - val_loss: 0.6662 - val_accuracy: 0.7890\n",
      "Epoch 35/50\n",
      "1563/1563 [==============================] - 52s 33ms/step - loss: 0.4074 - accuracy: 0.8559 - val_loss: 0.6621 - val_accuracy: 0.7969\n",
      "Epoch 36/50\n",
      "1563/1563 [==============================] - 52s 33ms/step - loss: 0.4083 - accuracy: 0.8586 - val_loss: 0.6559 - val_accuracy: 0.7989\n",
      "Epoch 37/50\n",
      "1563/1563 [==============================] - 53s 34ms/step - loss: 0.4079 - accuracy: 0.8589 - val_loss: 0.6641 - val_accuracy: 0.7956\n",
      "Epoch 38/50\n",
      "1563/1563 [==============================] - 52s 34ms/step - loss: 0.4076 - accuracy: 0.8569 - val_loss: 0.6811 - val_accuracy: 0.7946\n",
      "Epoch 39/50\n",
      "1563/1563 [==============================] - 54s 35ms/step - loss: 0.4042 - accuracy: 0.8591 - val_loss: 0.6849 - val_accuracy: 0.7931\n",
      "Epoch 40/50\n",
      "1563/1563 [==============================] - 52s 33ms/step - loss: 0.4000 - accuracy: 0.8587 - val_loss: 0.6490 - val_accuracy: 0.7944\n",
      "Epoch 41/50\n",
      "1563/1563 [==============================] - 52s 33ms/step - loss: 0.3920 - accuracy: 0.8626 - val_loss: 0.6769 - val_accuracy: 0.7951\n",
      "Epoch 42/50\n",
      "1563/1563 [==============================] - 53s 34ms/step - loss: 0.3927 - accuracy: 0.8648 - val_loss: 0.6502 - val_accuracy: 0.8001\n",
      "Epoch 43/50\n",
      "1563/1563 [==============================] - 52s 33ms/step - loss: 0.3982 - accuracy: 0.8630 - val_loss: 0.6453 - val_accuracy: 0.8030\n",
      "Epoch 44/50\n",
      "1563/1563 [==============================] - 51s 33ms/step - loss: 0.3898 - accuracy: 0.8643 - val_loss: 0.6752 - val_accuracy: 0.7965\n",
      "Epoch 45/50\n",
      "1563/1563 [==============================] - 53s 34ms/step - loss: 0.3764 - accuracy: 0.8693 - val_loss: 0.6704 - val_accuracy: 0.7976\n",
      "Epoch 46/50\n",
      "1563/1563 [==============================] - 52s 34ms/step - loss: 0.3868 - accuracy: 0.8677 - val_loss: 0.6686 - val_accuracy: 0.8009\n",
      "Epoch 47/50\n",
      "1563/1563 [==============================] - 53s 34ms/step - loss: 0.3824 - accuracy: 0.8678 - val_loss: 0.6967 - val_accuracy: 0.7926\n",
      "Epoch 48/50\n",
      "1563/1563 [==============================] - 53s 34ms/step - loss: 0.3848 - accuracy: 0.8672 - val_loss: 0.7115 - val_accuracy: 0.7970\n",
      "Epoch 49/50\n",
      "1563/1563 [==============================] - 53s 34ms/step - loss: 0.3778 - accuracy: 0.8702 - val_loss: 0.6683 - val_accuracy: 0.7984\n",
      "Epoch 50/50\n",
      "1563/1563 [==============================] - 53s 34ms/step - loss: 0.3675 - accuracy: 0.8713 - val_loss: 0.6886 - val_accuracy: 0.7896\n"
     ]
    }
   ],
   "source": [
    "history2 = model2.fit(x_train, y_train, validation_data=(x_test, y_test), epochs=50)"
   ]
  },
  {
   "cell_type": "markdown",
   "id": "5fff31bd",
   "metadata": {},
   "source": [
    "### Accuracy"
   ]
  },
  {
   "cell_type": "code",
   "execution_count": 99,
   "id": "acb4a93b",
   "metadata": {},
   "outputs": [
    {
     "name": "stdout",
     "output_type": "stream",
     "text": [
      "313/313 [==============================] - 2s 7ms/step\n"
     ]
    }
   ],
   "source": [
    "from sklearn.metrics import classification_report,accuracy_score\n",
    "from matplotlib import pyplot as plt\n",
    "ypred = model2.predict(x_test).argmax(axis = 1)"
   ]
  },
  {
   "cell_type": "code",
   "execution_count": 100,
   "id": "e929fe69",
   "metadata": {},
   "outputs": [],
   "source": [
    "accuracy_score = (y_test, ypred)"
   ]
  },
  {
   "cell_type": "code",
   "execution_count": 101,
   "id": "97d288e5",
   "metadata": {},
   "outputs": [
    {
     "name": "stdout",
     "output_type": "stream",
     "text": [
      "              precision    recall  f1-score   support\n",
      "\n",
      "           0       0.85      0.78      0.81      1000\n",
      "           1       0.91      0.89      0.90      1000\n",
      "           2       0.73      0.66      0.70      1000\n",
      "           3       0.64      0.56      0.60      1000\n",
      "           4       0.77      0.76      0.76      1000\n",
      "           5       0.75      0.71      0.73      1000\n",
      "           6       0.71      0.92      0.80      1000\n",
      "           7       0.89      0.81      0.85      1000\n",
      "           8       0.79      0.93      0.86      1000\n",
      "           9       0.86      0.87      0.87      1000\n",
      "\n",
      "    accuracy                           0.79     10000\n",
      "   macro avg       0.79      0.79      0.79     10000\n",
      "weighted avg       0.79      0.79      0.79     10000\n",
      "\n"
     ]
    }
   ],
   "source": [
    "print(classification_report(y_test,ypred))"
   ]
  },
  {
   "cell_type": "markdown",
   "id": "5bfb602c",
   "metadata": {},
   "source": [
    "**Accuracy of CNN model is 79%. This model gives the best accuracy of all the previous models indicating that CNN is one among the most suitable models for image classfication.**"
   ]
  },
  {
   "cell_type": "code",
   "execution_count": 105,
   "id": "270ac300",
   "metadata": {},
   "outputs": [],
   "source": [
    "# Retrieve list of results on training and test data sets for each training epoch\n",
    "from matplotlib import pyplot as plt\n",
    "acc      = history2.history['accuracy']\n",
    "val_acc  = history2.history['val_accuracy']\n",
    "loss     = history2.history['loss']\n",
    "val_loss = history2.history['val_loss']\n",
    "\n",
    "# Get number of epochs\n",
    "epochs   = range(len(acc)) "
   ]
  },
  {
   "cell_type": "code",
   "execution_count": 106,
   "id": "c1371064",
   "metadata": {},
   "outputs": [
    {
     "data": {
      "text/plain": [
       "<Figure size 640x480 with 0 Axes>"
      ]
     },
     "execution_count": 106,
     "metadata": {},
     "output_type": "execute_result"
    },
    {
     "data": {
      "image/png": "[encoded data removed]",
      "text/plain": [
       "<Figure size 640x480 with 1 Axes>"
      ]
     },
     "metadata": {},
     "output_type": "display_data"
    },
    {
     "data": {
      "text/plain": [
       "<Figure size 640x480 with 0 Axes>"
      ]
     },
     "metadata": {},
     "output_type": "display_data"
    }
   ],
   "source": [
    "# Plot training and validation accuracy per epoch\n",
    "plt.plot  ( epochs,     acc )\n",
    "plt.plot  ( epochs, val_acc )\n",
    "plt.title ('Training and validation accuracy')\n",
    "plt.ylabel('accuracy')\n",
    "plt.xlabel('epoch')\n",
    "plt.legend(['train', 'test'], loc='upper right')\n",
    "plt.figure()"
   ]
  },
  {
   "cell_type": "markdown",
   "id": "cdab2480",
   "metadata": {},
   "source": [
    "Unlike deep neural network (without convolution), the CNN is not overfitting on training data. The training and test accuracy are close to each other. The validation accuracy increases rapidly in the first ten epochs, indicating that the network is learning fast and the curve flattens in the later epochs indicating that not too many epochs are required to train the model further."
   ]
  },
  {
   "cell_type": "code",
   "execution_count": 107,
   "id": "f801e5d3",
   "metadata": {},
   "outputs": [
    {
     "data": {
      "text/plain": [
       "<matplotlib.legend.Legend at 0x1086a7640>"
      ]
     },
     "execution_count": 107,
     "metadata": {},
     "output_type": "execute_result"
    },
    {
     "data": {
      "image/png": "[encoded data removed]",
      "text/plain": [
       "<Figure size 640x480 with 1 Axes>"
      ]
     },
     "metadata": {},
     "output_type": "display_data"
    }
   ],
   "source": [
    "# Plot training and validation loss per epoch\n",
    "plt.plot  ( epochs,     loss )\n",
    "plt.plot  ( epochs, val_loss )\n",
    "plt.title ('Training and validation loss'   )\n",
    "plt.ylabel('loss')\n",
    "plt.xlabel('epoch')\n",
    "plt.legend(['train', 'test'], loc='upper right')"
   ]
  },
  {
   "cell_type": "markdown",
   "id": "9d8f0e1a",
   "metadata": {},
   "source": [
    "The loss decreases rapidly in the first twenty epochs on training set. The loss for the test set does not decrease at the same rate as the training set and remains almost flat for multiple epochs. This indicates that the model is generalizing well to unseen data."
   ]
  },
  {
   "cell_type": "markdown",
   "id": "cbbaa0ab",
   "metadata": {},
   "source": [
    "## Support Vector Machine (SVM) Linear Kernal\n",
    "\n",
    "Support Vector Machines (SVM) is a supervised learning algorithm that can be used for classification or regression tasks. SVM with a linear kernel is a variant of SVM where the kernel function used is a linear function. The linear kernel maps the input data to a high-dimensional space in which the data can be separated by a hyperplane. SVM with a linear kernel is generally used when the data is linearly separable. They are useful in high-dimensional spaces and only use a small subset of the training points or support vectors making them memory efficient."
   ]
  },
  {
   "cell_type": "code",
   "execution_count": 1,
   "id": "5d788469",
   "metadata": {},
   "outputs": [],
   "source": [
    "# Importing required libraries\n",
    "from keras.datasets import cifar10\n",
    "import os\n",
    "import numpy as np\n",
    "\n",
    "# define num_class\n",
    "num_classes = 10\n",
    "classesName = ['plane', 'car', 'bird', 'cat', 'deer', 'dog', 'frog', 'horse', 'ship', 'truck']\n",
    "\n",
    "# Loading the data\n",
    "(x_train, y_train), (x_test, y_test) = cifar10.load_data()"
   ]
  },
  {
   "cell_type": "code",
   "execution_count": 2,
   "id": "1d8f5766",
   "metadata": {},
   "outputs": [
    {
     "name": "stderr",
     "output_type": "stream",
     "text": [
      "/var/folders/x8/nk_vkqbn0jz88d1bg1w6xwn00000gn/T/ipykernel_72319/1263043690.py:2: DeprecationWarning: `np.float` is a deprecated alias for the builtin `float`. To silence this warning, use `float` by itself. Doing this will not modify any behavior and is safe. If you specifically wanted the numpy scalar type, use `np.float64` here.\n",
      "Deprecated in NumPy 1.20; for more details and guidance: https://numpy.org/devdocs/release/1.20.0-notes.html#deprecations\n",
      "  x_val = x_train[49000:, :].astype(np.float)\n",
      "/var/folders/x8/nk_vkqbn0jz88d1bg1w6xwn00000gn/T/ipykernel_72319/1263043690.py:5: DeprecationWarning: `np.float` is a deprecated alias for the builtin `float`. To silence this warning, use `float` by itself. Doing this will not modify any behavior and is safe. If you specifically wanted the numpy scalar type, use `np.float64` here.\n",
      "Deprecated in NumPy 1.20; for more details and guidance: https://numpy.org/devdocs/release/1.20.0-notes.html#deprecations\n",
      "  x_train = x_train[:49000, :].astype(np.float)\n"
     ]
    },
    {
     "name": "stdout",
     "output_type": "stream",
     "text": [
      "(49000, 32, 32, 3)\n",
      "(49000,)\n"
     ]
    },
    {
     "name": "stderr",
     "output_type": "stream",
     "text": [
      "/var/folders/x8/nk_vkqbn0jz88d1bg1w6xwn00000gn/T/ipykernel_72319/1263043690.py:8: DeprecationWarning: `np.float` is a deprecated alias for the builtin `float`. To silence this warning, use `float` by itself. Doing this will not modify any behavior and is safe. If you specifically wanted the numpy scalar type, use `np.float64` here.\n",
      "Deprecated in NumPy 1.20; for more details and guidance: https://numpy.org/devdocs/release/1.20.0-notes.html#deprecations\n",
      "  x_test = x_test.astype(np.float)\n"
     ]
    }
   ],
   "source": [
    "# Splitting dataset into train and validation sets\n",
    "x_val = x_train[49000:, :].astype(np.float)\n",
    "y_val = np.squeeze(y_train[49000:, :])\n",
    "\n",
    "x_train = x_train[:49000, :].astype(np.float)\n",
    "y_train = np.squeeze(y_train[:49000, :])\n",
    "y_test = np.squeeze(y_test)\n",
    "x_test = x_test.astype(np.float)\n",
    "\n",
    "print(x_train.shape)\n",
    "print(y_train.shape)"
   ]
  },
  {
   "cell_type": "code",
   "execution_count": 3,
   "id": "08d45d40",
   "metadata": {},
   "outputs": [
    {
     "name": "stdout",
     "output_type": "stream",
     "text": [
      "(49000, 3072)\n",
      "[ 59.  62.  63. ... 123.  92.  72.]\n",
      "(49000, 3072)\n",
      "[-0.5372549  -0.51372549 -0.50588235 ... -0.03529412 -0.27843137\n",
      " -0.43529412]\n"
     ]
    }
   ],
   "source": [
    "# Reshape the 3-dimensional image data into a 2-dimensional format\n",
    "x_train = np.reshape(x_train, (x_train.shape[0], -1))\n",
    "x_val = np.reshape(x_val, (x_val.shape[0], -1))\n",
    "x_test = np.reshape(x_test, (x_test.shape[0], -1))\n",
    "print(x_train.shape) \n",
    "print(x_train[0])\n",
    "\n",
    "#Normalize the pixel values of the training data\n",
    "x_train=((x_train/255)*2)-1 \n",
    "print(x_train.shape)\n",
    "print(x_train[0])"
   ]
  },
  {
   "cell_type": "code",
   "execution_count": 4,
   "id": "3ae40dcf",
   "metadata": {},
   "outputs": [
    {
     "name": "stdout",
     "output_type": "stream",
     "text": [
      "[6 9 9 ... 1 1 5]\n",
      "(10000, 3072)\n",
      "(10000,)\n"
     ]
    }
   ],
   "source": [
    "# Subset for first 10000 images and their labels\n",
    "x_train=x_train[:10000,:]\n",
    "y_train=y_train[:10000]\n",
    "print(y_train)\n",
    "print(x_train.shape)\n",
    "print(y_train.shape)"
   ]
  },
  {
   "cell_type": "markdown",
   "id": "1403807d",
   "metadata": {},
   "source": [
    "### Training the model with regularization parameter of 0.1"
   ]
  },
  {
   "cell_type": "code",
   "execution_count": 8,
   "id": "d708b744",
   "metadata": {},
   "outputs": [
    {
     "data": {
      "text/html": [
       "<style>#sk-container-id-2 {color: black;background-color: white;}#sk-container-id-2 pre{padding: 0;}#sk-container-id-2 div.sk-toggleable {background-color: white;}#sk-container-id-2 label.sk-toggleable__label {cursor: pointer;display: block;width: 100%;margin-bottom: 0;padding: 0.3em;box-sizing: border-box;text-align: center;}#sk-container-id-2 label.sk-toggleable__label-arrow:before {content: \"▸\";float: left;margin-right: 0.25em;color: #696969;}#sk-container-id-2 label.sk-toggleable__label-arrow:hover:before {color: black;}#sk-container-id-2 div.sk-estimator:hover label.sk-toggleable__label-arrow:before {color: black;}#sk-container-id-2 div.sk-toggleable__content {max-height: 0;max-width: 0;overflow: hidden;text-align: left;background-color: #f0f8ff;}#sk-container-id-2 div.sk-toggleable__content pre {margin: 0.2em;color: black;border-radius: 0.25em;background-color: #f0f8ff;}#sk-container-id-2 input.sk-toggleable__control:checked~div.sk-toggleable__content {max-height: 200px;max-width: 100%;overflow: auto;}#sk-container-id-2 input.sk-toggleable__control:checked~label.sk-toggleable__label-arrow:before {content: \"▾\";}#sk-container-id-2 div.sk-estimator input.sk-toggleable__control:checked~label.sk-toggleable__label {background-color: #d4ebff;}#sk-container-id-2 div.sk-label input.sk-toggleable__control:checked~label.sk-toggleable__label {background-color: #d4ebff;}#sk-container-id-2 input.sk-hidden--visually {border: 0;clip: rect(1px 1px 1px 1px);clip: rect(1px, 1px, 1px, 1px);height: 1px;margin: -1px;overflow: hidden;padding: 0;position: absolute;width: 1px;}#sk-container-id-2 div.sk-estimator {font-family: monospace;background-color: #f0f8ff;border: 1px dotted black;border-radius: 0.25em;box-sizing: border-box;margin-bottom: 0.5em;}#sk-container-id-2 div.sk-estimator:hover {background-color: #d4ebff;}#sk-container-id-2 div.sk-parallel-item::after {content: \"\";width: 100%;border-bottom: 1px solid gray;flex-grow: 1;}#sk-container-id-2 div.sk-label:hover label.sk-toggleable__label {background-color: #d4ebff;}#sk-container-id-2 div.sk-serial::before {content: \"\";position: absolute;border-left: 1px solid gray;box-sizing: border-box;top: 0;bottom: 0;left: 50%;z-index: 0;}#sk-container-id-2 div.sk-serial {display: flex;flex-direction: column;align-items: center;background-color: white;padding-right: 0.2em;padding-left: 0.2em;position: relative;}#sk-container-id-2 div.sk-item {position: relative;z-index: 1;}#sk-container-id-2 div.sk-parallel {display: flex;align-items: stretch;justify-content: center;background-color: white;position: relative;}#sk-container-id-2 div.sk-item::before, #sk-container-id-2 div.sk-parallel-item::before {content: \"\";position: absolute;border-left: 1px solid gray;box-sizing: border-box;top: 0;bottom: 0;left: 50%;z-index: -1;}#sk-container-id-2 div.sk-parallel-item {display: flex;flex-direction: column;z-index: 1;position: relative;background-color: white;}#sk-container-id-2 div.sk-parallel-item:first-child::after {align-self: flex-end;width: 50%;}#sk-container-id-2 div.sk-parallel-item:last-child::after {align-self: flex-start;width: 50%;}#sk-container-id-2 div.sk-parallel-item:only-child::after {width: 0;}#sk-container-id-2 div.sk-dashed-wrapped {border: 1px dashed gray;margin: 0 0.4em 0.5em 0.4em;box-sizing: border-box;padding-bottom: 0.4em;background-color: white;}#sk-container-id-2 div.sk-label label {font-family: monospace;font-weight: bold;display: inline-block;line-height: 1.2em;}#sk-container-id-2 div.sk-label-container {text-align: center;}#sk-container-id-2 div.sk-container {/* jupyter's `normalize.less` sets `[hidden] { display: none; }` but bootstrap.min.css set `[hidden] { display: none !important; }` so we also need the `!important` here to be able to override the default hidden behavior on the sphinx rendered scikit-learn.org. See: https://github.com/scikit-learn/scikit-learn/issues/21755 */display: inline-block !important;position: relative;}#sk-container-id-2 div.sk-text-repr-fallback {display: none;}</style><div id=\"sk-container-id-2\" class=\"sk-top-container\"><div class=\"sk-text-repr-fallback\"><pre>SVC(C=0.1, kernel=&#x27;linear&#x27;)</pre><b>In a Jupyter environment, please rerun this cell to show the HTML representation or trust the notebook. <br />On GitHub, the HTML representation is unable to render, please try loading this page with nbviewer.org.</b></div><div class=\"sk-container\" hidden><div class=\"sk-item\"><div class=\"sk-estimator sk-toggleable\"><input class=\"sk-toggleable__control sk-hidden--visually\" id=\"sk-estimator-id-2\" type=\"checkbox\" checked><label for=\"sk-estimator-id-2\" class=\"sk-toggleable__label sk-toggleable__label-arrow\">SVC</label><div class=\"sk-toggleable__content\"><pre>SVC(C=0.1, kernel=&#x27;linear&#x27;)</pre></div></div></div></div></div>"
      ],
      "text/plain": [
       "SVC(C=0.1, kernel='linear')"
      ]
     },
     "execution_count": 8,
     "metadata": {},
     "output_type": "execute_result"
    }
   ],
   "source": [
    "# train model with regularization parameter of 0.1.\n",
    "from sklearn import svm\n",
    "svc = svm.SVC(probability = False, kernel = 'linear', C = 0.1)\n",
    "svc.fit(x_train, y_train)"
   ]
  },
  {
   "cell_type": "code",
   "execution_count": 9,
   "id": "29fc9cb9",
   "metadata": {},
   "outputs": [
    {
     "name": "stdout",
     "output_type": "stream",
     "text": [
      "Test Accuracy = 0.293000\n"
     ]
    }
   ],
   "source": [
    "svc_test = svc.predict(x_val)\n",
    "acc_test = np.mean(svc_test == y_val)\n",
    "print('Test Accuracy = {0:f}'.format(acc_test)) "
   ]
  },
  {
   "cell_type": "markdown",
   "id": "2aac82ae",
   "metadata": {},
   "source": [
    "### Training the model with regularization parameter of 0.010"
   ]
  },
  {
   "cell_type": "code",
   "execution_count": 5,
   "id": "dc53df9e",
   "metadata": {},
   "outputs": [
    {
     "data": {
      "text/html": [
       "<style>#sk-container-id-1 {color: black;background-color: white;}#sk-container-id-1 pre{padding: 0;}#sk-container-id-1 div.sk-toggleable {background-color: white;}#sk-container-id-1 label.sk-toggleable__label {cursor: pointer;display: block;width: 100%;margin-bottom: 0;padding: 0.3em;box-sizing: border-box;text-align: center;}#sk-container-id-1 label.sk-toggleable__label-arrow:before {content: \"▸\";float: left;margin-right: 0.25em;color: #696969;}#sk-container-id-1 label.sk-toggleable__label-arrow:hover:before {color: black;}#sk-container-id-1 div.sk-estimator:hover label.sk-toggleable__label-arrow:before {color: black;}#sk-container-id-1 div.sk-toggleable__content {max-height: 0;max-width: 0;overflow: hidden;text-align: left;background-color: #f0f8ff;}#sk-container-id-1 div.sk-toggleable__content pre {margin: 0.2em;color: black;border-radius: 0.25em;background-color: #f0f8ff;}#sk-container-id-1 input.sk-toggleable__control:checked~div.sk-toggleable__content {max-height: 200px;max-width: 100%;overflow: auto;}#sk-container-id-1 input.sk-toggleable__control:checked~label.sk-toggleable__label-arrow:before {content: \"▾\";}#sk-container-id-1 div.sk-estimator input.sk-toggleable__control:checked~label.sk-toggleable__label {background-color: #d4ebff;}#sk-container-id-1 div.sk-label input.sk-toggleable__control:checked~label.sk-toggleable__label {background-color: #d4ebff;}#sk-container-id-1 input.sk-hidden--visually {border: 0;clip: rect(1px 1px 1px 1px);clip: rect(1px, 1px, 1px, 1px);height: 1px;margin: -1px;overflow: hidden;padding: 0;position: absolute;width: 1px;}#sk-container-id-1 div.sk-estimator {font-family: monospace;background-color: #f0f8ff;border: 1px dotted black;border-radius: 0.25em;box-sizing: border-box;margin-bottom: 0.5em;}#sk-container-id-1 div.sk-estimator:hover {background-color: #d4ebff;}#sk-container-id-1 div.sk-parallel-item::after {content: \"\";width: 100%;border-bottom: 1px solid gray;flex-grow: 1;}#sk-container-id-1 div.sk-label:hover label.sk-toggleable__label {background-color: #d4ebff;}#sk-container-id-1 div.sk-serial::before {content: \"\";position: absolute;border-left: 1px solid gray;box-sizing: border-box;top: 0;bottom: 0;left: 50%;z-index: 0;}#sk-container-id-1 div.sk-serial {display: flex;flex-direction: column;align-items: center;background-color: white;padding-right: 0.2em;padding-left: 0.2em;position: relative;}#sk-container-id-1 div.sk-item {position: relative;z-index: 1;}#sk-container-id-1 div.sk-parallel {display: flex;align-items: stretch;justify-content: center;background-color: white;position: relative;}#sk-container-id-1 div.sk-item::before, #sk-container-id-1 div.sk-parallel-item::before {content: \"\";position: absolute;border-left: 1px solid gray;box-sizing: border-box;top: 0;bottom: 0;left: 50%;z-index: -1;}#sk-container-id-1 div.sk-parallel-item {display: flex;flex-direction: column;z-index: 1;position: relative;background-color: white;}#sk-container-id-1 div.sk-parallel-item:first-child::after {align-self: flex-end;width: 50%;}#sk-container-id-1 div.sk-parallel-item:last-child::after {align-self: flex-start;width: 50%;}#sk-container-id-1 div.sk-parallel-item:only-child::after {width: 0;}#sk-container-id-1 div.sk-dashed-wrapped {border: 1px dashed gray;margin: 0 0.4em 0.5em 0.4em;box-sizing: border-box;padding-bottom: 0.4em;background-color: white;}#sk-container-id-1 div.sk-label label {font-family: monospace;font-weight: bold;display: inline-block;line-height: 1.2em;}#sk-container-id-1 div.sk-label-container {text-align: center;}#sk-container-id-1 div.sk-container {/* jupyter's `normalize.less` sets `[hidden] { display: none; }` but bootstrap.min.css set `[hidden] { display: none !important; }` so we also need the `!important` here to be able to override the default hidden behavior on the sphinx rendered scikit-learn.org. See: https://github.com/scikit-learn/scikit-learn/issues/21755 */display: inline-block !important;position: relative;}#sk-container-id-1 div.sk-text-repr-fallback {display: none;}</style><div id=\"sk-container-id-1\" class=\"sk-top-container\"><div class=\"sk-text-repr-fallback\"><pre>SVC(C=0.01, kernel=&#x27;linear&#x27;)</pre><b>In a Jupyter environment, please rerun this cell to show the HTML representation or trust the notebook. <br />On GitHub, the HTML representation is unable to render, please try loading this page with nbviewer.org.</b></div><div class=\"sk-container\" hidden><div class=\"sk-item\"><div class=\"sk-estimator sk-toggleable\"><input class=\"sk-toggleable__control sk-hidden--visually\" id=\"sk-estimator-id-1\" type=\"checkbox\" checked><label for=\"sk-estimator-id-1\" class=\"sk-toggleable__label sk-toggleable__label-arrow\">SVC</label><div class=\"sk-toggleable__content\"><pre>SVC(C=0.01, kernel=&#x27;linear&#x27;)</pre></div></div></div></div></div>"
      ],
      "text/plain": [
       "SVC(C=0.01, kernel='linear')"
      ]
     },
     "execution_count": 5,
     "metadata": {},
     "output_type": "execute_result"
    }
   ],
   "source": [
    "# train model with regularization parameter of 0.010\n",
    "from sklearn import svm\n",
    "svc2 = svm.SVC(probability = False, kernel = 'linear', C = 0.010)\n",
    "svc2.fit(x_train, y_train)"
   ]
  },
  {
   "cell_type": "code",
   "execution_count": 7,
   "id": "2622f97a",
   "metadata": {},
   "outputs": [
    {
     "name": "stdout",
     "output_type": "stream",
     "text": [
      "Test Accuracy = 0.291000\n"
     ]
    }
   ],
   "source": [
    "svc_test2 = svc2.predict(x_val)\n",
    "acc_test2 = np.mean(svc_test2 == y_val)\n",
    "print('Test Accuracy = {0:f}'.format(acc_test2))"
   ]
  },
  {
   "cell_type": "markdown",
   "id": "9542b801",
   "metadata": {},
   "source": [
    "The SVM model has been trained with two values for the regularization parameter C(0.1 and 0.010). The model's performance is poor in both cases. This is because linear SVM is a linear classifier that works well when the data is linearly separable. In the case of CIFAR-10 dataset, the classes are not linearly separable, and there is a lot of overlap between the features of different classes. This makes it difficult for a linear SVM to achieve high accuracy on this dataset. For a better accuracy with svm, the hyperparameter has to be properly tuned which is time consuming but in general the performance of cnn is better for image classfication."
   ]
  },
  {
   "cell_type": "markdown",
   "id": "47b76032",
   "metadata": {},
   "source": [
    "## Final Comparison between models"
   ]
  },
  {
   "cell_type": "markdown",
   "id": "9ef68219",
   "metadata": {},
   "source": [
    "| Model                        | Training Time(seconds) | Accuracy |\n",
    "|------------------------------|---------------|----------|\n",
    "| Logistic Regression with default solver | 112     | 40.5%      |\n",
    "| Logistic Regression with saga solver | 1518     | 40.33%      |\n",
    "| Random forest with default hyperparameters          | 312     | 46.88%      |\n",
    "| Random forest with hyperparameter tuning         | 20592     | 47.37%      |\n",
    "| Deep Neural Network without convolution layer        | 2732     | 47.11%      |\n",
    "| Convolutional Neural Network | 2750         | 79%\n",
    "| SVM with linear kernel                         | 247.8  | 29.3%      |"
   ]
  },
  {
   "cell_type": "markdown",
   "id": "1576128b",
   "metadata": {},
   "source": [
    "From the above results, convolutional neural networks (CNN) outperforms the other algorithms. This is because C"
   ]
  },
  {
   "cell_type": "code",
   "execution_count": null,
   "id": "6f78f65a",
   "metadata": {},
   "outputs": [],
   "source": []
  }
 ],
 "metadata": {
  "kernelspec": {
   "display_name": "Python 3 (ipykernel)",
   "language": "python",
   "name": "python3"
  },
  "language_info": {
   "codemirror_mode": {
    "name": "ipython",
    "version": 3
   },
   "file_extension": ".py",
   "mimetype": "text/x-python",
   "name": "python",
   "nbconvert_exporter": "python",
   "pygments_lexer": "ipython3",
   "version": "3.10.10"
  }
 },
 "nbformat": 4,
 "nbformat_minor": 5
}
