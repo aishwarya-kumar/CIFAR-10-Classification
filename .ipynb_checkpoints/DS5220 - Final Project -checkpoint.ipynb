{
 "cells": [
  {
   "cell_type": "markdown",
   "id": "f7300a07",
   "metadata": {},
   "source": [
    "# DS5220 Supervised Machine Learning - Final Project "
   ]
  },
  {
   "cell_type": "markdown",
   "id": "37d38ea8",
   "metadata": {},
   "source": [
    "Aishwarya Abbimutt Nagendra Kumar, Keerthana Velilani"
   ]
  },
  {
   "cell_type": "markdown",
   "id": "e463fa9a",
   "metadata": {},
   "source": [
    "# Classification on CIFAR-10 dataset"
   ]
  },
  {
   "cell_type": "markdown",
   "id": "fbdc5662",
   "metadata": {},
   "source": [
    "This project will focus on implementing different classification algorithms on the CIFAR-10 dataset.\n",
    "We are going to use Python for the project."
   ]
  },
  {
   "cell_type": "markdown",
   "id": "67e8ba2f",
   "metadata": {},
   "source": [
    "## Data "
   ]
  },
  {
   "cell_type": "markdown",
   "id": "573e6cc0",
   "metadata": {},
   "source": [
    "The data used for this project is the CIFAR-10 dataset. \n",
    "It is an image dataset that contains 60000 images belonging to 10 classes. There are 50000 training images and 10000 test images.\n",
    "Each image is 32x32x3, i.e. 32x32 pixels colour images(3 channels - RGB). \n",
    "The 10 image classes are:\n",
    " * Airplane\n",
    " * Automobile \n",
    " * Bird\n",
    " * Cat\n",
    " * Deer\n",
    " * Dog\n",
    " * Frog\n",
    " * Horse\n",
    " * Ship\n",
    " * Truck\n",
    " "
   ]
  },
  {
   "cell_type": "code",
   "execution_count": 1,
   "id": "320efd00",
   "metadata": {},
   "outputs": [],
   "source": [
    "#Importing dependencies\n",
    "import pandas as pd\n",
    "import numpy as np\n",
    "\n",
    "import matplotlib.pyplot as plt\n",
    "import matplotlib as mpl\n",
    "import seaborn as sns\n",
    "%matplotlib inline\n",
    "\n",
    "import keras\n",
    "from keras.datasets import cifar10\n",
    "\n",
    "from sklearn.metrics import *  \n",
    "from sklearn.metrics import classification_report\n",
    "from sklearn.model_selection import train_test_split\n",
    "from sklearn.model_selection import KFold, cross_val_score\n",
    "\n",
    "import time\n",
    "\n",
    "from sklearn.linear_model import LogisticRegression\n",
    "from sklearn.tree import DecisionTreeClassifier\n",
    "from sklearn.ensemble import RandomForestClassifier, ExtraTreesClassifier\n",
    "from xgboost import XGBClassifier\n",
    "import xgboost as xgb"
   ]
  },
  {
   "cell_type": "code",
   "execution_count": 2,
   "id": "00a483db",
   "metadata": {},
   "outputs": [],
   "source": [
    "#Importing the data\n",
    "\n",
    "# define num_class\n",
    "num_classes = 10\n",
    "classesName = ['plane', 'car', 'bird', 'cat', 'deer', 'dog', 'frog', 'horse', 'ship', 'truck']\n",
    "\n",
    "# load dataset keras will download cifar-10 datset\n",
    "(x_train, y_train), (x_test, y_test) = cifar10.load_data()  "
   ]
  },
  {
   "cell_type": "code",
   "execution_count": 3,
   "id": "c1e8d079",
   "metadata": {},
   "outputs": [
    {
     "name": "stdout",
     "output_type": "stream",
     "text": [
      "(50000, 32, 32, 3)\n",
      "(50000, 1)\n",
      "(10000, 32, 32, 3)\n",
      "(10000, 1)\n"
     ]
    }
   ],
   "source": [
    "print(x_train.shape)\n",
    "print(y_train.shape)\n",
    "print(x_test.shape)\n",
    "print(y_test.shape)"
   ]
  },
  {
   "cell_type": "code",
   "execution_count": 4,
   "id": "75f82b6f",
   "metadata": {},
   "outputs": [
    {
     "name": "stdout",
     "output_type": "stream",
     "text": [
      "(50000, 3072) train shape\n",
      "(10000, 3072) test shape\n",
      "(50000,) train shape\n",
      "(10000,) test shape\n"
     ]
    }
   ],
   "source": [
    "# Converting the 50000 , 32*32*3 images into 50000 * 3072 arrays\n",
    "x_train = x_train.reshape(50000, 3072)\n",
    "x_test = x_test.reshape(10000, 3072)\n",
    "x_train = x_train.astype('float32')\n",
    "x_test = x_test.astype('float32')\n",
    "\n",
    "y_train = y_train.flatten()\n",
    "y_test = y_test.flatten()\n",
    "\n",
    "# normalize the datasets\n",
    "x_train /= 255.\n",
    "x_test /= 255.\n",
    "\n",
    "print(x_train.shape , \"train shape\")\n",
    "print(x_test.shape , \"test shape\")\n",
    "print(y_train.shape , \"train shape\")\n",
    "print(y_test.shape , \"test shape\")"
   ]
  },
  {
   "cell_type": "markdown",
   "id": "3f665510",
   "metadata": {},
   "source": [
    "### Logistic regression"
   ]
  },
  {
   "cell_type": "markdown",
   "id": "78825710",
   "metadata": {},
   "source": [
    "The first model we choose to run is Logistic regression, we will use this as a baseline.\n",
    "Logistic regression is normally used for binary classification tasks, but we can use it for multi-class classification as well.\n"
   ]
  },
  {
   "cell_type": "code",
   "execution_count": 6,
   "id": "06ac021e",
   "metadata": {},
   "outputs": [
    {
     "name": "stdout",
     "output_type": "stream",
     "text": [
      "Accuracy: 0.405 (0.007)\n",
      "Logistic reg time taken: 98.6986289024353 secs\n"
     ]
    }
   ],
   "source": [
    "start = time.time()\n",
    "\n",
    "# 3-fold cross-validation\n",
    "cv = KFold(n_splits=3, random_state=1, shuffle=True)\n",
    "\n",
    "# logistic regression model\n",
    "log_clf = LogisticRegression()\n",
    "\n",
    "# Evaluating the model using cross-validation\n",
    "scores = cross_val_score(log_clf, x_train, y_train, scoring='accuracy', cv=cv, n_jobs=-1)\n",
    "\n",
    "# model performance\n",
    "print('Accuracy: %.3f (%.3f)' % (np.mean(scores), np.std(scores)))\n",
    "\n",
    "end= time.time()\n",
    "print(\"Logistic reg time taken:\", end-start, \"secs\")"
   ]
  },
  {
   "cell_type": "code",
   "execution_count": 8,
   "id": "7e733c34",
   "metadata": {},
   "outputs": [
    {
     "name": "stderr",
     "output_type": "stream",
     "text": [
      "C:\\Users\\aish0\\anaconda3\\lib\\site-packages\\sklearn\\linear_model\\_logistic.py:814: ConvergenceWarning: lbfgs failed to converge (status=1):\n",
      "STOP: TOTAL NO. of ITERATIONS REACHED LIMIT.\n",
      "\n",
      "Increase the number of iterations (max_iter) or scale the data as shown in:\n",
      "    https://scikit-learn.org/stable/modules/preprocessing.html\n",
      "Please also refer to the documentation for alternative solver options:\n",
      "    https://scikit-learn.org/stable/modules/linear_model.html#logistic-regression\n",
      "  n_iter_i = _check_optimize_result(\n"
     ]
    }
   ],
   "source": [
    "log_model = log_clf.fit(x_train, y_train)"
   ]
  },
  {
   "cell_type": "code",
   "execution_count": null,
   "id": "0df36d8d",
   "metadata": {},
   "outputs": [],
   "source": [
    "#prediction on test data\n",
    "y_hat_log = log_clf.predict(x_test)\n",
    "accuracy_score(y_test, y_hat_log)"
   ]
  },
  {
   "cell_type": "code",
   "execution_count": 10,
   "id": "f1ac4a6b",
   "metadata": {},
   "outputs": [
    {
     "name": "stdout",
     "output_type": "stream",
     "text": [
      "              precision    recall  f1-score   support\n",
      "\n",
      "           0       0.43      0.48      0.45      1000\n",
      "           1       0.47      0.49      0.48      1000\n",
      "           2       0.32      0.28      0.30      1000\n",
      "           3       0.31      0.23      0.27      1000\n",
      "           4       0.36      0.29      0.32      1000\n",
      "           5       0.33      0.37      0.35      1000\n",
      "           6       0.42      0.49      0.45      1000\n",
      "           7       0.46      0.44      0.45      1000\n",
      "           8       0.47      0.52      0.49      1000\n",
      "           9       0.43      0.46      0.44      1000\n",
      "\n",
      "    accuracy                           0.41     10000\n",
      "   macro avg       0.40      0.41      0.40     10000\n",
      "weighted avg       0.40      0.41      0.40     10000\n",
      "\n"
     ]
    }
   ],
   "source": [
    "#Classification report\n",
    "print(classification_report(y_test, y_hat_log))"
   ]
  },
  {
   "cell_type": "markdown",
   "id": "c8e72a24",
   "metadata": {},
   "source": [
    "The logistic model does not seem to converge since max_iterations in th default lbfgs solver is 100. We can try using a different optimizer(solver) and higher iterations in this case."
   ]
  },
  {
   "cell_type": "code",
   "execution_count": null,
   "id": "40364b1c",
   "metadata": {},
   "outputs": [],
   "source": [
    "log_clf2= LogisticRegression(solver='saga', max_iter=1000)\n",
    "log_model2 = log_clf2.fit(x_train, y_train)"
   ]
  },
  {
   "cell_type": "markdown",
   "id": "a06a46ed",
   "metadata": {},
   "source": [
    "As expected logistic regression does not perform very well on image classification task.This model establishes as a baseline for the rest of algorithms that we can try. "
   ]
  },
  {
   "cell_type": "code",
   "execution_count": null,
   "id": "6d6eb770",
   "metadata": {},
   "outputs": [],
   "source": []
  },
  {
   "cell_type": "code",
   "execution_count": null,
   "id": "3dcbd334",
   "metadata": {},
   "outputs": [],
   "source": []
  },
  {
   "cell_type": "code",
   "execution_count": null,
   "id": "b1e65a17",
   "metadata": {},
   "outputs": [],
   "source": []
  },
  {
   "cell_type": "code",
   "execution_count": null,
   "id": "d47c474a",
   "metadata": {},
   "outputs": [],
   "source": []
  },
  {
   "cell_type": "code",
   "execution_count": null,
   "id": "ec771204",
   "metadata": {},
   "outputs": [],
   "source": []
  },
  {
   "cell_type": "code",
   "execution_count": null,
   "id": "bf28ab2f",
   "metadata": {},
   "outputs": [],
   "source": []
  },
  {
   "cell_type": "code",
   "execution_count": null,
   "id": "856cec56",
   "metadata": {},
   "outputs": [],
   "source": []
  }
 ],
 "metadata": {
  "kernelspec": {
   "display_name": "Python 3 (ipykernel)",
   "language": "python",
   "name": "python3"
  },
  "language_info": {
   "codemirror_mode": {
    "name": "ipython",
    "version": 3
   },
   "file_extension": ".py",
   "mimetype": "text/x-python",
   "name": "python",
   "nbconvert_exporter": "python",
   "pygments_lexer": "ipython3",
   "version": "3.9.13"
  }
 },
 "nbformat": 4,
 "nbformat_minor": 5
}
